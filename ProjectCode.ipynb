{
  "nbformat": 4,
  "nbformat_minor": 0,
  "metadata": {
    "colab": {
      "name": "CAIS++V2.ipynb",
      "provenance": []
    },
    "kernelspec": {
      "name": "python3",
      "display_name": "Python 3"
    },
    "language_info": {
      "name": "python"
    }
  },
  "cells": [
    {
      "cell_type": "code",
      "execution_count": null,
      "metadata": {
        "id": "Ubu3TTXV9T_b"
      },
      "outputs": [],
      "source": [
        "#Imports\n",
        "import pandas as pd\n",
        "import numpy as np\n",
        "import tensorflow as tf\n",
        "from tensorflow import keras\n",
        "from keras.preprocessing.text import Tokenizer\n",
        "from keras.preprocessing.sequence import pad_sequences\n",
        "\n",
        "from google.colab import drive\n",
        "import seaborn as sns"
      ]
    },
    {
      "cell_type": "code",
      "source": [
        "drive.mount('/content/drive')"
      ],
      "metadata": {
        "id": "qn9Smd0L9hU1",
        "colab": {
          "base_uri": "https://localhost:8080/"
        },
        "outputId": "175d08a5-4f58-4e0d-a21d-3eca0f7f0f36"
      },
      "execution_count": null,
      "outputs": [
        {
          "output_type": "stream",
          "name": "stdout",
          "text": [
            "Mounted at /content/drive\n"
          ]
        }
      ]
    },
    {
      "cell_type": "code",
      "source": [
        "#Path to glove embedding\n",
        "embeddings_file = '/content/drive/My Drive/CAIS Project/glove.twitter.27B.50d.txt'"
      ],
      "metadata": {
        "id": "VeCDIId-RtaO"
      },
      "execution_count": null,
      "outputs": []
    },
    {
      "cell_type": "code",
      "source": [
        "#Load data\n",
        "dataset = pd.read_csv('/content/drive/My Drive/CAIS Project/data.csv')\n",
        "dataset.head()"
      ],
      "metadata": {
        "id": "YhiokIV_9hnD",
        "colab": {
          "base_uri": "https://localhost:8080/",
          "height": 204
        },
        "outputId": "2b7b79e9-385e-4f74-d5f3-39b09bd00782"
      },
      "execution_count": null,
      "outputs": [
        {
          "output_type": "execute_result",
          "data": {
            "text/html": [
              "\n",
              "  <div id=\"df-22c6768e-c53b-47ad-b20b-290a2880a53a\">\n",
              "    <div class=\"colab-df-container\">\n",
              "      <div>\n",
              "<style scoped>\n",
              "    .dataframe tbody tr th:only-of-type {\n",
              "        vertical-align: middle;\n",
              "    }\n",
              "\n",
              "    .dataframe tbody tr th {\n",
              "        vertical-align: top;\n",
              "    }\n",
              "\n",
              "    .dataframe thead th {\n",
              "        text-align: right;\n",
              "    }\n",
              "</style>\n",
              "<table border=\"1\" class=\"dataframe\">\n",
              "  <thead>\n",
              "    <tr style=\"text-align: right;\">\n",
              "      <th></th>\n",
              "      <th>valence</th>\n",
              "      <th>author</th>\n",
              "      <th>tweet</th>\n",
              "    </tr>\n",
              "  </thead>\n",
              "  <tbody>\n",
              "    <tr>\n",
              "      <th>0</th>\n",
              "      <td>0</td>\n",
              "      <td>_TheSpecialOne_</td>\n",
              "      <td>@switchfoot http://twitpic.com/2y1zl - Awww, t...</td>\n",
              "    </tr>\n",
              "    <tr>\n",
              "      <th>1</th>\n",
              "      <td>0</td>\n",
              "      <td>scotthamilton</td>\n",
              "      <td>is upset that he can't update his Facebook by ...</td>\n",
              "    </tr>\n",
              "    <tr>\n",
              "      <th>2</th>\n",
              "      <td>0</td>\n",
              "      <td>mattycus</td>\n",
              "      <td>@Kenichan I dived many times for the ball. Man...</td>\n",
              "    </tr>\n",
              "    <tr>\n",
              "      <th>3</th>\n",
              "      <td>0</td>\n",
              "      <td>ElleCTF</td>\n",
              "      <td>my whole body feels itchy and like its on fire</td>\n",
              "    </tr>\n",
              "    <tr>\n",
              "      <th>4</th>\n",
              "      <td>0</td>\n",
              "      <td>Karoli</td>\n",
              "      <td>@nationwideclass no, it's not behaving at all....</td>\n",
              "    </tr>\n",
              "  </tbody>\n",
              "</table>\n",
              "</div>\n",
              "      <button class=\"colab-df-convert\" onclick=\"convertToInteractive('df-22c6768e-c53b-47ad-b20b-290a2880a53a')\"\n",
              "              title=\"Convert this dataframe to an interactive table.\"\n",
              "              style=\"display:none;\">\n",
              "        \n",
              "  <svg xmlns=\"http://www.w3.org/2000/svg\" height=\"24px\"viewBox=\"0 0 24 24\"\n",
              "       width=\"24px\">\n",
              "    <path d=\"M0 0h24v24H0V0z\" fill=\"none\"/>\n",
              "    <path d=\"M18.56 5.44l.94 2.06.94-2.06 2.06-.94-2.06-.94-.94-2.06-.94 2.06-2.06.94zm-11 1L8.5 8.5l.94-2.06 2.06-.94-2.06-.94L8.5 2.5l-.94 2.06-2.06.94zm10 10l.94 2.06.94-2.06 2.06-.94-2.06-.94-.94-2.06-.94 2.06-2.06.94z\"/><path d=\"M17.41 7.96l-1.37-1.37c-.4-.4-.92-.59-1.43-.59-.52 0-1.04.2-1.43.59L10.3 9.45l-7.72 7.72c-.78.78-.78 2.05 0 2.83L4 21.41c.39.39.9.59 1.41.59.51 0 1.02-.2 1.41-.59l7.78-7.78 2.81-2.81c.8-.78.8-2.07 0-2.86zM5.41 20L4 18.59l7.72-7.72 1.47 1.35L5.41 20z\"/>\n",
              "  </svg>\n",
              "      </button>\n",
              "      \n",
              "  <style>\n",
              "    .colab-df-container {\n",
              "      display:flex;\n",
              "      flex-wrap:wrap;\n",
              "      gap: 12px;\n",
              "    }\n",
              "\n",
              "    .colab-df-convert {\n",
              "      background-color: #E8F0FE;\n",
              "      border: none;\n",
              "      border-radius: 50%;\n",
              "      cursor: pointer;\n",
              "      display: none;\n",
              "      fill: #1967D2;\n",
              "      height: 32px;\n",
              "      padding: 0 0 0 0;\n",
              "      width: 32px;\n",
              "    }\n",
              "\n",
              "    .colab-df-convert:hover {\n",
              "      background-color: #E2EBFA;\n",
              "      box-shadow: 0px 1px 2px rgba(60, 64, 67, 0.3), 0px 1px 3px 1px rgba(60, 64, 67, 0.15);\n",
              "      fill: #174EA6;\n",
              "    }\n",
              "\n",
              "    [theme=dark] .colab-df-convert {\n",
              "      background-color: #3B4455;\n",
              "      fill: #D2E3FC;\n",
              "    }\n",
              "\n",
              "    [theme=dark] .colab-df-convert:hover {\n",
              "      background-color: #434B5C;\n",
              "      box-shadow: 0px 1px 3px 1px rgba(0, 0, 0, 0.15);\n",
              "      filter: drop-shadow(0px 1px 2px rgba(0, 0, 0, 0.3));\n",
              "      fill: #FFFFFF;\n",
              "    }\n",
              "  </style>\n",
              "\n",
              "      <script>\n",
              "        const buttonEl =\n",
              "          document.querySelector('#df-22c6768e-c53b-47ad-b20b-290a2880a53a button.colab-df-convert');\n",
              "        buttonEl.style.display =\n",
              "          google.colab.kernel.accessAllowed ? 'block' : 'none';\n",
              "\n",
              "        async function convertToInteractive(key) {\n",
              "          const element = document.querySelector('#df-22c6768e-c53b-47ad-b20b-290a2880a53a');\n",
              "          const dataTable =\n",
              "            await google.colab.kernel.invokeFunction('convertToInteractive',\n",
              "                                                     [key], {});\n",
              "          if (!dataTable) return;\n",
              "\n",
              "          const docLinkHtml = 'Like what you see? Visit the ' +\n",
              "            '<a target=\"_blank\" href=https://colab.research.google.com/notebooks/data_table.ipynb>data table notebook</a>'\n",
              "            + ' to learn more about interactive tables.';\n",
              "          element.innerHTML = '';\n",
              "          dataTable['output_type'] = 'display_data';\n",
              "          await google.colab.output.renderOutput(dataTable, element);\n",
              "          const docLink = document.createElement('div');\n",
              "          docLink.innerHTML = docLinkHtml;\n",
              "          element.appendChild(docLink);\n",
              "        }\n",
              "      </script>\n",
              "    </div>\n",
              "  </div>\n",
              "  "
            ],
            "text/plain": [
              "   valence           author                                              tweet\n",
              "0        0  _TheSpecialOne_  @switchfoot http://twitpic.com/2y1zl - Awww, t...\n",
              "1        0    scotthamilton  is upset that he can't update his Facebook by ...\n",
              "2        0         mattycus  @Kenichan I dived many times for the ball. Man...\n",
              "3        0          ElleCTF    my whole body feels itchy and like its on fire \n",
              "4        0           Karoli  @nationwideclass no, it's not behaving at all...."
            ]
          },
          "metadata": {},
          "execution_count": 4
        }
      ]
    },
    {
      "cell_type": "code",
      "source": [
        "#Convert data from pandas to numpy\n",
        "yValues = dataset['valence'].to_numpy()\n",
        "yValues = np.reshape(yValues, (1600000,))\n",
        "xValues = dataset['tweet'].to_numpy()\n",
        "yValues = yValues.astype(int)\n",
        "\n",
        "for i in range(len(yValues)):\n",
        "  if (yValues[i] == 4):\n",
        "    yValues[i] = 1\n",
        "\n",
        "sns.displot(dataset['valence'])\n",
        "#no \"neutral\" tweets -> can treat this as binary classification\n",
        "#dataset is well-balanced: 50% split of +ve and -ve"
      ],
      "metadata": {
        "id": "_j_TzHj19o6l",
        "colab": {
          "base_uri": "https://localhost:8080/",
          "height": 386
        },
        "outputId": "aad0a994-0229-4bb0-a38f-2fdfdcbf140c"
      },
      "execution_count": 89,
      "outputs": [
        {
          "output_type": "execute_result",
          "data": {
            "text/plain": [
              "<seaborn.axisgrid.FacetGrid at 0x7f112fd61850>"
            ]
          },
          "metadata": {},
          "execution_count": 89
        },
        {
          "output_type": "display_data",
          "data": {
            "image/png": "[encoded data removed]",
            "text/plain": [
              "<Figure size 360x360 with 1 Axes>"
            ]
          },
          "metadata": {
            "needs_background": "light"
          }
        }
      ]
    },
    {
      "cell_type": "code",
      "source": [
        "#Use embedding to process tweets\n",
        "import os\n",
        "embedding_dimension = 50\n",
        "def preprocess_text(tweets, labels, embedding_address):\n",
        "  tokenizer = Tokenizer()\n",
        "  tokenizer.fit_on_texts(tweets) \n",
        "  sequences = tokenizer.texts_to_sequences(tweets)\n",
        "  word_index = tokenizer.word_index\n",
        "  X_train = pad_sequences(sequences) \n",
        "\n",
        "\n",
        "  embeddings_index = {}\n",
        "  f = open(embedding_address, 'rb')\n",
        "  for line in f:\n",
        "    values = line.split()\n",
        "    word = values[0].decode('UTF-8')\n",
        "    coefs = np.asarray(values[1:], dtype='float32')\n",
        "    embeddings_index[word] = coefs\n",
        "  f.close()\n",
        "\n",
        "\n",
        "  num_words = len(word_index)+1\n",
        "  embedding_matrix = np.zeros((num_words, embedding_dimension))\n",
        "\n",
        "  for word, i in word_index.items():\n",
        "    if i >= num_words:\n",
        "      continue\n",
        "    embedding_vector = embeddings_index.get(word)\n",
        "    if embedding_vector is not None:\n",
        "      embedding_matrix[i] = embedding_vector\n",
        "\n",
        "  return X_train, word_index, embedding_matrix"
      ],
      "metadata": {
        "id": "cAcb1oRe-Hor"
      },
      "execution_count": null,
      "outputs": []
    },
    {
      "cell_type": "code",
      "source": [
        "#Generate word embeddings\n",
        "xValues, word_index, embedding_matrix = preprocess_text(xValues, yValues, embeddings_file)"
      ],
      "metadata": {
        "id": "TFMHykjoPKEI"
      },
      "execution_count": null,
      "outputs": []
    },
    {
      "cell_type": "code",
      "source": [
        "#Split the data into train, test and val\n",
        "from sklearn.model_selection import train_test_split\n",
        "\n",
        "X_train, X_test_val, y_train, y_test_val = train_test_split(xValues, yValues, test_size=0.20, random_state=42)\n",
        "X_test, X_val, y_test, y_val = train_test_split(X_test_val, y_test_val, test_size=0.0032, random_state=42)\n",
        "#Plot train set to ensure 50/50 split is retained\n",
        "sns.displot(y_train)"
      ],
      "metadata": {
        "id": "Ec96R5oi9rIR",
        "colab": {
          "base_uri": "https://localhost:8080/",
          "height": 386
        },
        "outputId": "0686dd54-a70a-4003-d3fc-628797e71549"
      },
      "execution_count": null,
      "outputs": [
        {
          "output_type": "execute_result",
          "data": {
            "text/plain": [
              "<seaborn.axisgrid.FacetGrid at 0x7f1126354d50>"
            ]
          },
          "metadata": {},
          "execution_count": 58
        },
        {
          "output_type": "display_data",
          "data": {
            "image/png": "[encoded data removed]",
            "text/plain": [
              "<Figure size 360x360 with 1 Axes>"
            ]
          },
          "metadata": {
            "needs_background": "light"
          }
        }
      ]
    },
    {
      "cell_type": "markdown",
      "source": [
        "#Model Training"
      ],
      "metadata": {
        "id": "bKA-ray1Pw_Z"
      }
    },
    {
      "cell_type": "code",
      "source": [
        "#Keras imports\n",
        "from keras.models import Sequential\n",
        "from keras.layers import Embedding, Input\n",
        "from keras.layers.merge import Concatenate\n",
        "from keras.layers.core import Dense, Activation, Flatten\n",
        "from keras.layers import Dropout, concatenate\n",
        "from keras.layers.recurrent import LSTM\n",
        "from keras.layers.wrappers import Bidirectional\n",
        "from keras.layers.convolutional import Conv1D, MaxPooling1D\n",
        "from keras.callbacks import ModelCheckpoint, EarlyStopping, TensorBoard\n",
        "from keras import metrics\n",
        "from keras.models import Model"
      ],
      "metadata": {
        "id": "JG1x8BDUPzC-"
      },
      "execution_count": null,
      "outputs": []
    },
    {
      "cell_type": "code",
      "source": [
        "#Setup and compile model\n",
        "model = Sequential()\n",
        "\n",
        "model.add(Embedding(len(word_index) + 1,\n",
        "                    embedding_dimension,\n",
        "                    weights=[embedding_matrix],\n",
        "                    input_length=X_train.shape[1],\n",
        "                    trainable=False))\n",
        "\n",
        "model.add(LSTM(64, return_sequences = True, activation='tanh'))\n",
        "model.add(Dropout(.2))\n",
        "\n",
        "model.add(LSTM(64, activation='tanh'))\n",
        "model.add(Dropout(.2))\n",
        "\n",
        "model.add(Dense(32, activation='relu'))\n",
        "model.add(Dropout(.2))\n",
        "\n",
        "model.add(Dense(1, activation = 'sigmoid'))\n",
        "\n",
        "print(model.summary())\n",
        "\n",
        "#Use binary crossentropy and adam\n",
        "LOSS = 'binary_crossentropy' # because we're classifying between 0 and 1\n",
        "OPTIMIZER = 'Adam' #Commonly used in NLP\n",
        "\n",
        "model.compile(loss = LOSS, optimizer = OPTIMIZER, metrics = [metrics.binary_accuracy])\n"
      ],
      "metadata": {
        "colab": {
          "base_uri": "https://localhost:8080/"
        },
        "id": "WFXm36KKPznm",
        "outputId": "0574c29e-f619-45db-8cb4-319a275beb22"
      },
      "execution_count": null,
      "outputs": [
        {
          "output_type": "stream",
          "name": "stdout",
          "text": [
            "Model: \"sequential_1\"\n",
            "_________________________________________________________________\n",
            " Layer (type)                Output Shape              Param #   \n",
            "=================================================================\n",
            " embedding_1 (Embedding)     (None, 118, 50)           34548050  \n",
            "                                                                 \n",
            " lstm_2 (LSTM)               (None, 118, 64)           29440     \n",
            "                                                                 \n",
            " dropout_3 (Dropout)         (None, 118, 64)           0         \n",
            "                                                                 \n",
            " lstm_3 (LSTM)               (None, 64)                33024     \n",
            "                                                                 \n",
            " dropout_4 (Dropout)         (None, 64)                0         \n",
            "                                                                 \n",
            " dense_2 (Dense)             (None, 32)                2080      \n",
            "                                                                 \n",
            " dropout_5 (Dropout)         (None, 32)                0         \n",
            "                                                                 \n",
            " dense_3 (Dense)             (None, 1)                 33        \n",
            "                                                                 \n",
            "=================================================================\n",
            "Total params: 34,612,627\n",
            "Trainable params: 64,577\n",
            "Non-trainable params: 34,548,050\n",
            "_________________________________________________________________\n",
            "None\n"
          ]
        }
      ]
    },
    {
      "cell_type": "code",
      "source": [
        "#Train model, 1 epoch at a time (run 5 times for a total of 5 epochs of training)\n",
        "EPOCHS = 1\n",
        "BATCH = 256\n",
        "VAL = (X_val, y_val)\n",
        "\n",
        "model.fit(X_train, y_train, epochs=EPOCHS, batch_size=BATCH, validation_data=VAL)\n"
      ],
      "metadata": {
        "colab": {
          "base_uri": "https://localhost:8080/"
        },
        "id": "JEufXJiXSnzA",
        "outputId": "3143bde2-af12-45ff-fdde-52b76943a919"
      },
      "execution_count": 78,
      "outputs": [
        {
          "output_type": "stream",
          "name": "stdout",
          "text": [
            "5000/5000 [==============================] - 2340s 468ms/step - loss: 0.4037 - binary_accuracy: 0.8161 - val_loss: 0.3792 - val_binary_accuracy: 0.8174\n"
          ]
        },
        {
          "output_type": "execute_result",
          "data": {
            "text/plain": [
              "<keras.callbacks.History at 0x7f112ff34e50>"
            ]
          },
          "metadata": {},
          "execution_count": 78
        }
      ]
    },
    {
      "cell_type": "code",
      "source": [
        "results = model.evaluate(X_test, y_test) #Evaluate the model on test dataset"
      ],
      "metadata": {
        "colab": {
          "base_uri": "https://localhost:8080/"
        },
        "id": "h9eTZcR0wfuo",
        "outputId": "96aaef94-8598-45b9-d23c-339961f16cf3"
      },
      "execution_count": 79,
      "outputs": [
        {
          "output_type": "stream",
          "name": "stdout",
          "text": [
            "9968/9968 [==============================] - 309s 31ms/step - loss: 0.4013 - binary_accuracy: 0.8162\n"
          ]
        }
      ]
    },
    {
      "cell_type": "code",
      "source": [
        "print(X_test.shape)\n",
        "print(\"Accuracy 81.62%:\", int(0.8162*318976), \"correct classifications and\" , int(0.1838*318976), \"incorrect classifications\")"
      ],
      "metadata": {
        "colab": {
          "base_uri": "https://localhost:8080/"
        },
        "id": "P4r0KllIqtok",
        "outputId": "6b756d27-b021-403d-a88f-d173f1c647e3"
      },
      "execution_count": 87,
      "outputs": [
        {
          "output_type": "stream",
          "name": "stdout",
          "text": [
            "(318976, 118)\n",
            "Accuracy 81.62%: 260348 correct classifications and 58627 incorrect classifications\n"
          ]
        }
      ]
    }
  ]
}
